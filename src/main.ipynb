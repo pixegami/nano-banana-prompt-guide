{
 "cells": [
  {
   "cell_type": "code",
   "execution_count": null,
   "id": "9413a80b",
   "metadata": {},
   "outputs": [],
   "source": [
    "from pathlib import Path\n",
    "from google import genai\n",
    "import PIL\n",
    "from io import BytesIO\n",
    "from IPython.display import Image, display, Markdown\n",
    "\n",
    "\n",
    "def generate_image(title: str, prompt: str, input_images: list[str] = []) -> str:\n",
    "    client = genai.Client()\n",
    "\n",
    "    # If there's input images, load them.\n",
    "    contents = []\n",
    "    for input_image_path in input_images:\n",
    "        image = PIL.Image.open(input_image_path)\n",
    "        contents.append(image)\n",
    "\n",
    "    contents.append(prompt)\n",
    "\n",
    "    response = client.models.generate_content(\n",
    "        model=\"gemini-2.5-flash-image-preview\",\n",
    "        contents=contents,\n",
    "    )\n",
    "\n",
    "    image_path = title.lower().replace(\" \", \"_\") + \".png\"\n",
    "    image_path = Path(\"output\") / image_path\n",
    "    image_path.parent.mkdir(parents=True, exist_ok=True)\n",
    "\n",
    "    for part in response.candidates[0].content.parts:\n",
    "        if part.text is not None:\n",
    "            print(part.text)\n",
    "        elif part.inline_data is not None:\n",
    "            image = PIL.Image.open(BytesIO(part.inline_data.data))\n",
    "            image.save(image_path)\n",
    "            \n",
    "    return image_path\n",
    "\n",
    "def display_image(image_path, prompt: str, width=600):\n",
    "    display(Image(filename=image_path, width=width))\n",
    "    display(Markdown(f\"[{image_path}]: *{prompt}*\"))\n",
    "    display(Markdown(\"---\"))  # Separator line\n",
    "\n",
    "\n",
    "def generate_and_display(title: str, prompt: str, input_images: list[str] = [], width=600):\n",
    "    image_path = generate_image(title, prompt, input_images)\n",
    "    display_image(image_path, prompt, width)\n",
    "    return image_path"
   ]
  },
  {
   "cell_type": "markdown",
   "id": "68fa1a00",
   "metadata": {},
   "source": [
    "# Image Generation Prompts"
   ]
  },
  {
   "cell_type": "markdown",
   "id": "ac4c451c",
   "metadata": {},
   "source": [
    "## Photo Realistic Images"
   ]
  },
  {
   "cell_type": "code",
   "execution_count": null,
   "id": "e0c42ce2",
   "metadata": {},
   "outputs": [],
   "source": [
    "REALISTIC_PROMPT_TEMPLATE = \"\"\"\n",
    "A photorealistic {shot_type} of {subject}, {action_or_expression}, set in\n",
    "{environment}. The scene is illuminated by {lightning_description}, creating\n",
    "a {mood} atmosphere. Captured with a {camera_details}, emphasizing\n",
    "{key_textures_and_details}. The image should be in a {aspect_ratio} format.\n",
    "\"\"\""
   ]
  },
  {
   "cell_type": "code",
   "execution_count": null,
   "id": "b4c29e90",
   "metadata": {},
   "outputs": [],
   "source": [
    "\n",
    "# Example 1: Urban Portrait\n",
    "example_1 = {\n",
    "    \"shot_type\": \"close-up portrait\",\n",
    "    \"subject\": \"a weathered street musician in his 60s\",\n",
    "    \"action_or_expression\": \"playing a worn violin with eyes closed in deep concentration\",\n",
    "    \"environment\": \"a bustling subway station during rush hour\",\n",
    "    \"lightning_description\": \"warm artificial tunnel lighting mixed with cool fluorescent overhead lights\",\n",
    "    \"mood\": \"contemplative and melancholic\",\n",
    "    \"camera_details\": \"85mm lens at f/1.4 with shallow depth of field\",\n",
    "    \"key_textures_and_details\": \"the deep lines in his face, scratched violin wood, and blurred commuter movement\",\n",
    "    \"aspect_ratio\": \"3:4\"\n",
    "}\n",
    "\n",
    "# Example 2: Nature Landscape\n",
    "example_2 = {\n",
    "    \"shot_type\": \"wide establishing shot\",\n",
    "    \"subject\": \"a lone hiker with a red backpack\",\n",
    "    \"action_or_expression\": \"standing at the edge of a cliff overlooking a misty valley\",\n",
    "    \"environment\": \"the Scottish Highlands during early morning\",\n",
    "    \"lightning_description\": \"soft golden hour sunlight breaking through dramatic storm clouds\",\n",
    "    \"mood\": \"epic and adventurous\",\n",
    "    \"camera_details\": \"24mm wide-angle lens with polarizing filter\",\n",
    "    \"key_textures_and_details\": \"wet heather, jagged rock formations, and swirling mist patterns\",\n",
    "    \"aspect_ratio\": \"16:9\"\n",
    "}\n",
    "\n",
    "# Example 3: Action Shot\n",
    "example_3 = {\n",
    "    \"shot_type\": \"dynamic mid-shot\",\n",
    "    \"subject\": \"a professional chef in whites\",\n",
    "    \"action_or_expression\": \"flambéing a pan with flames erupting upward, intense focus on her face\",\n",
    "    \"environment\": \"a high-end restaurant kitchen during dinner service\",\n",
    "    \"lightning_description\": \"bright overhead kitchen lights with dramatic orange flame glow\",\n",
    "    \"mood\": \"intense and energetic\",\n",
    "    \"camera_details\": \"50mm lens at f/2.8 with fast shutter speed freezing the flame\",\n",
    "    \"key_textures_and_details\": \"steel surfaces, flour dust in the air, and the chef's concentrated expression\",\n",
    "    \"aspect_ratio\": \"4:5\"\n",
    "}\n",
    "\n",
    "# Example 4: Intimate Indoor Scene\n",
    "example_4 = {\n",
    "    \"shot_type\": \"medium shot\",\n",
    "    \"subject\": \"an elderly woman in a floral dress\",\n",
    "    \"action_or_expression\": \"reading a handwritten letter by a window, tears glistening in her eyes\",\n",
    "    \"environment\": \"a sun-drenched living room filled with vintage furniture and family photos\",\n",
    "    \"lightning_description\": \"soft natural window light creating gentle shadows and rim lighting\",\n",
    "    \"mood\": \"nostalgic and bittersweet\",\n",
    "    \"camera_details\": \"105mm lens at f/2.0 with natural bokeh\",\n",
    "    \"key_textures_and_details\": \"worn fabric patterns, aged paper texture, and dust motes floating in sunbeams\",\n",
    "    \"aspect_ratio\": \"4:3\"\n",
    "}\n",
    "\n",
    "# Example 5: Cinematic Drama\n",
    "example_5 = {\n",
    "    \"shot_type\": \"low-angle hero shot\",\n",
    "    \"subject\": \"an astronaut in a pristine white NASA suit\",\n",
    "    \"action_or_expression\": \"flipping switches on an overhead control panel with focused determination\",\n",
    "    \"environment\": \"the cramped cockpit of an 80s space shuttle filled with analog gauges and chunky CRT monitors\",\n",
    "    \"lightning_description\": \"amber and green retro display lights casting dramatic shadows across the astronaut's helmet visor\",\n",
    "    \"mood\": \"tense and nostalgically futuristic\",\n",
    "    \"camera_details\": \"28mm lens at f/2.8 with slight film grain and vintage color grading\",\n",
    "    \"key_textures_and_details\": \"worn toggle switches, glowing analog readouts, reflective helmet surface, and chunky 80s computer interfaces\",\n",
    "    \"aspect_ratio\": \"21:9\"\n",
    "}\n",
    "\n",
    "# Generate prompts\n",
    "prompt_1 = REALISTIC_PROMPT_TEMPLATE.format(**example_1)\n",
    "prompt_2 = REALISTIC_PROMPT_TEMPLATE.format(**example_2)\n",
    "prompt_3 = REALISTIC_PROMPT_TEMPLATE.format(**example_3)\n",
    "prompt_4 = REALISTIC_PROMPT_TEMPLATE.format(**example_4)\n",
    "prompt_5 = REALISTIC_PROMPT_TEMPLATE.format(**example_5)\n",
    "\n",
    "for i, prompt in enumerate([prompt_1, prompt_2, prompt_3, prompt_4, prompt_5], start=1):\n",
    "    generate_and_display(\n",
    "        title=f\"realistic_image_{i}\",\n",
    "        prompt=prompt\n",
    "    )"
   ]
  },
  {
   "cell_type": "markdown",
   "id": "a0376e38",
   "metadata": {},
   "source": [
    "## Generate Illustrations"
   ]
  },
  {
   "cell_type": "code",
   "execution_count": null,
   "id": "ac844974",
   "metadata": {},
   "outputs": [],
   "source": [
    "ILLUSTRATIONS_PROMPT_TEMPLATE = \"\"\"\n",
    "A {illustration_style} of a {subject}, featuring {key_characteristics} and a\n",
    "{color_palette}. The design should have {line_style} and {shading_style}.\n",
    "\"\"\""
   ]
  },
  {
   "cell_type": "code",
   "execution_count": null,
   "id": "4a1239e8",
   "metadata": {},
   "outputs": [],
   "source": [
    "# Example 1: Retro Anime Style (Miyazaki-inspired)\n",
    "example_1 = {\n",
    "    \"illustration_style\": \"retro anime-style illustration in the spirit of Studio Ghibli\",\n",
    "    \"subject\": \"young botanist examining a glowing mushroom in an enchanted forest\",\n",
    "    \"key_characteristics\": \"soft facial features, earth-toned clothing, gentle expression, mystical forest elements\",\n",
    "    \"color_palette\": \"muted sage greens and warm ochres with subtle lavender and copper accents\",\n",
    "    \"line_style\": \"soft, organic line work with gentle curves and natural flow\",\n",
    "    \"shading_style\": \"soft cel-shading with warm ambient lighting and delicate shadow gradients\"\n",
    "}\n",
    "\n",
    "# Example 2: Pixar 3D Animation Style\n",
    "example_2 = {\n",
    "    \"illustration_style\": \"Pixar-style 3D animated character\",\n",
    "    \"subject\": \"curious black swan wearing a tiny backpack and explorer's hat\",\n",
    "    \"key_characteristics\": \"oversized expressive eyes, fluffy fur texture, adventurous pose, friendly smile\",\n",
    "    \"color_palette\": \"rich russet red and cream with forest green backpack and khaki hat details\",\n",
    "    \"line_style\": \"no visible outlines, relying on form and silhouette definition\",\n",
    "    \"shading_style\": \"soft subsurface scattering with warm ambient lighting and realistic fur rendering\"\n",
    "}\n",
    "\n",
    "# Example 3: Chibi Sticker Style\n",
    "example_3 = {\n",
    "    \"illustration_style\": \"adorable chibi sticker design\",\n",
    "    \"subject\": \"sleepy koala clinging to a eucalyptus branch\",\n",
    "    \"key_characteristics\": \"oversized round head, tiny limbs, half-closed sleepy eyes, fluffy ears, peaceful expression\",\n",
    "    \"color_palette\": \"soft gray and white with muted green branch and pink nose highlights\",\n",
    "    \"line_style\": \"thick, rounded black outlines with consistent weight\",\n",
    "    \"shading_style\": \"flat colors with simple white highlights and minimal pink blush accents\"\n",
    "}\n",
    "\n",
    "# Example 4: Watercolor Style\n",
    "example_4 = {\n",
    "    \"illustration_style\": \"loose watercolor painting\",\n",
    "    \"subject\": \"vintage bicycle with a basket full of pink and blue tulips\",\n",
    "    \"key_characteristics\": \"weathered frame, overflowing colorful blooms, rustic charm, gentle composition\",\n",
    "    \"color_palette\": \"soft pastels with bleeding purples, yellows, and pinks against muted blue-gray bike\",\n",
    "    \"line_style\": \"minimal pencil underdrawing barely visible beneath paint washes\",\n",
    "    \"shading_style\": \"organic wet-on-wet blending with natural color bleeds and paper texture showing through\"\n",
    "}\n",
    "\n",
    "# Example 5: Hand-Sketched Grungy Style\n",
    "example_5 = {\n",
    "    \"illustration_style\": \"rough hand-sketched illustration\",\n",
    "    \"subject\": \"vintage coffee shop barista grinding beans behind an espresso machine\",\n",
    "    \"key_characteristics\": \"casual clothing, focused concentration, steam rising from equipment, urban café atmosphere\",\n",
    "    \"color_palette\": \"monochromatic sepia browns with selective orange and cream color accents\",\n",
    "    \"line_style\": \"rough, sketchy lines with cross-hatching and varied pressure strokes\",\n",
    "    \"shading_style\": \"heavy cross-hatched shadows with smudged charcoal-like texture and rough highlights\"\n",
    "}\n",
    "\n",
    "# Generate all prompts\n",
    "examples = [example_1, example_2, example_3, example_4, example_5]\n",
    "prompts = [ILLUSTRATIONS_PROMPT_TEMPLATE.format(**ex) for ex in examples]\n",
    "\n",
    "for i, prompt in enumerate(prompts, start=1):\n",
    "    generate_and_display(\n",
    "        title=f\"illustration_{i}\",\n",
    "        prompt=prompt\n",
    "    )"
   ]
  },
  {
   "cell_type": "markdown",
   "id": "ad1b9b1d",
   "metadata": {},
   "source": [
    "## Generate Product Photos"
   ]
  },
  {
   "cell_type": "code",
   "execution_count": null,
   "id": "052cad22",
   "metadata": {},
   "outputs": [],
   "source": [
    "PRODUCT_PHOTO_PROMPT_TEMPLATE = \"\"\"\n",
    "A high-resolution, studio-lit product photograph of a {product_description}\n",
    "on a {background_description}. The lighting is a {lighting_setup}, to {lighting_purpose}. \n",
    "The camera angle is a {angle_type} to showcase {specific_feature}. Ultra-realistic, with sharp\n",
    "focus on {key_detail}. {aspect_ratio}.\n",
    "\"\"\""
   ]
  },
  {
   "cell_type": "code",
   "execution_count": null,
   "id": "98ac1a43",
   "metadata": {},
   "outputs": [],
   "source": [
    "\n",
    "# Example 1: Luxury Watch\n",
    "example_1 = {\n",
    "    \"product_description\": \"premium stainless steel chronograph watch with black leather strap\",\n",
    "    \"background_description\": \"luxurious dark purple velvet backdrop with subtle reflections\",\n",
    "    \"lighting_setup\": \"three-point lighting with key light, fill light, and rim light\",\n",
    "    \"lighting_purpose\": \"eliminate harsh shadows while creating elegant highlights on the metal case\",\n",
    "    \"angle_type\": \"three-quarter view from slightly above\",\n",
    "    \"specific_feature\": \"the intricate dial details and polished case finish\",\n",
    "    \"key_detail\": \"the watch face numerals and leather texture\",\n",
    "    \"aspect_ratio\": \"Square 1:1 format for social media compatibility\"\n",
    "}\n",
    "\n",
    "# Example 2: Wireless Headphones\n",
    "example_2 = {\n",
    "    \"product_description\": \"sleek black wireless over-ear headphones with rose gold accents\",\n",
    "    \"background_description\": \"dark grey infinity backdrop with soft shadows\",\n",
    "    \"lighting_setup\": \"soft box lighting from front-left with subtle fill light from the right\",\n",
    "    \"lighting_purpose\": \"highlight the matte black finish while preventing glare on reflective surfaces\",\n",
    "    \"angle_type\": \"dynamic side profile with slight rotation\",\n",
    "    \"specific_feature\": \"the adjustable headband mechanism and ear cup padding\",\n",
    "    \"key_detail\": \"the rose gold logo and premium materials\",\n",
    "    \"aspect_ratio\": \"Vertical 4:5 format ideal for mobile shopping\"\n",
    "}\n",
    "\n",
    "# Example 3: Skincare Serum Bottle\n",
    "example_3 = {\n",
    "    \"product_description\": \"elegant frosted ocean blue glass serum bottle with silver dropper cap, completely unlabeled\",\n",
    "    \"background_description\": \"white sand textured surface with subtle ocean blue gradient backdrop\",\n",
    "    \"lighting_setup\": \"soft, bright natural lighting mimicking seaside sunlight with gentle fill shadows\",\n",
    "    \"lighting_purpose\": \"evoke the fresh, clean feeling of a beach morning while highlighting the blue glass\",\n",
    "    \"angle_type\": \"slightly elevated three-quarter view nestled in sand texture\",\n",
    "    \"specific_feature\": \"the translucent blue glass and how light plays through the bottle\",\n",
    "    \"key_detail\": \"the frosted glass surface and silver dropper reflecting coastal light\",\n",
    "    \"aspect_ratio\": \"Standard 3:4 portrait format for catalog listings\"\n",
    "}\n",
    "\n",
    "# Generate all prompts\n",
    "examples = [example_1, example_2, example_3]\n",
    "prompts = [PRODUCT_PHOTO_PROMPT_TEMPLATE.format(**ex) for ex in examples]\n",
    "\n",
    "for i, prompt in enumerate(prompts, start=1):\n",
    "    generate_and_display(\n",
    "        title=f\"product_photo_{i}\",\n",
    "        prompt=prompt\n",
    "    )"
   ]
  },
  {
   "cell_type": "markdown",
   "id": "e8473d70",
   "metadata": {},
   "source": [
    "# Image Editing\n",
    "\n",
    "Using the provided image, change only the [specific element] to [new\n",
    "element/description]. Keep everything else in the image exactly the same,\n",
    "preserving the original style, lighting, and composition."
   ]
  },
  {
   "cell_type": "markdown",
   "id": "3e75a240",
   "metadata": {},
   "source": [
    "## In-Painting"
   ]
  },
  {
   "cell_type": "code",
   "execution_count": null,
   "id": "48add333",
   "metadata": {},
   "outputs": [],
   "source": [
    "IN_PAINTING_PROMPT_1 = \"\"\"\n",
    "Using the provided image, change only the sofa to navy blue. \n",
    "Keep everything else in the image exactly the same,\n",
    "preserving the original style, lighting, and composition.\"\"\"\n",
    "\n",
    "generate_and_display(\n",
    "        title=f\"in_painting_image_1\",\n",
    "        input_images=[\"./images/living_room.jpeg\"],\n",
    "        prompt=IN_PAINTING_PROMPT_1\n",
    "    )"
   ]
  },
  {
   "cell_type": "code",
   "execution_count": null,
   "id": "5384aa34",
   "metadata": {},
   "outputs": [],
   "source": [
    "IN_PAINTING_PROMPT_2 = \"\"\"\n",
    "Using the provided image, replace the lights with large indoor monsterra plants. \n",
    "Keep everything else in the image exactly the same,\n",
    "preserving the original style, lighting, and composition.\"\"\"\n",
    "\n",
    "generate_and_display(\n",
    "        title=f\"in_painting_image_2\",\n",
    "        input_images=[\"./images/living_room.jpeg\"],\n",
    "        prompt=IN_PAINTING_PROMPT_2\n",
    "    )"
   ]
  },
  {
   "cell_type": "code",
   "execution_count": null,
   "id": "31bc6169",
   "metadata": {},
   "outputs": [],
   "source": [
    "IN_PAINTING_PROMPT_2 = \"\"\"\n",
    "Using the provided image, replace the floor and the TV cabinet material with walnut textured wood instead. \n",
    "Keep everything else in the image exactly the same,\n",
    "preserving the original style, lighting, and composition.\"\"\"\n",
    "\n",
    "generate_and_display(\n",
    "        title=f\"in_painting_image_2\",\n",
    "        input_images=[\"./images/living_room.jpeg\"],\n",
    "        prompt=IN_PAINTING_PROMPT_2\n",
    "    )"
   ]
  },
  {
   "cell_type": "markdown",
   "id": "7d7829c9",
   "metadata": {},
   "source": [
    "## Image Combining"
   ]
  },
  {
   "cell_type": "code",
   "execution_count": null,
   "id": "9b64735e",
   "metadata": {},
   "outputs": [],
   "source": [
    "model_image = generate_and_display(\n",
    "        title=f\"model_photo_1\",\n",
    "        prompt=\"Create a studio photo-shoot image of a model in plain white T-shirt, a with a soft, light grey background\"\n",
    "    )"
   ]
  },
  {
   "cell_type": "code",
   "execution_count": null,
   "id": "ddee49b3",
   "metadata": {},
   "outputs": [],
   "source": [
    "outfit_image_1 = generate_and_display(\n",
    "        title=f\"outfit_photo_1\",\n",
    "        prompt=\"create an product image of a bright yellow summer dress, against a white background\"\n",
    "    )\n",
    "\n",
    "outfit_image_2 = generate_and_display(\n",
    "        title=f\"outfit_photo_2\",\n",
    "        prompt=\"create an product image of a retro 80s workout track suit, against a white background\"\n",
    "    )"
   ]
  },
  {
   "cell_type": "code",
   "execution_count": null,
   "id": "ec288f23",
   "metadata": {},
   "outputs": [],
   "source": [
    "COMBINED_IMAGE_TEMPLATE = \"\"\"\n",
    "\"Create a professional e-commerce fashion photo. Take the outfit\n",
    "from the first image and let the model from the second image wear it, well-fitted.\n",
    "Generate a realistic, full-body shot of the model wearing the outfit, with\n",
    "the lighting and shadows adjusted to match the outdoor environment.\"\"\"\n",
    "\n",
    "combined_1 = generate_and_display(\n",
    "        title=f\"combined_1\",\n",
    "        input_images=[outfit_image_1, model_image],\n",
    "        prompt=COMBINED_IMAGE_TEMPLATE\n",
    "    )\n",
    "\n",
    "combined_2 = generate_and_display(\n",
    "        title=f\"combined_2\",\n",
    "        input_images=[outfit_image_2, model_image],\n",
    "        prompt=COMBINED_IMAGE_TEMPLATE\n",
    "    )"
   ]
  },
  {
   "cell_type": "markdown",
   "id": "5513b689",
   "metadata": {},
   "source": [
    "# Best Practices"
   ]
  },
  {
   "cell_type": "markdown",
   "id": "82cf1eb1",
   "metadata": {},
   "source": [
    "## Be Hyper-Specific\n",
    "\n",
    "The more detail you provide, the more control you have. Instead of \"fantasy armor,\" describe it: \"ornate elven plate armor, etched with silver leaf patterns, with a high collar and pauldrons shaped like falcon wings.\""
   ]
  },
  {
   "cell_type": "code",
   "execution_count": null,
   "id": "e90d80b1",
   "metadata": {},
   "outputs": [],
   "source": [
    "generate_and_display(\n",
    "    title=f\"fantasy_armor_1\",\n",
    "    prompt=\"fantasy armor\",\n",
    ")\n",
    "\n",
    "generate_and_display(\n",
    "    title=f\"fantasy_armor_1\",\n",
    "    prompt=\"ornate elven plate armor, etched with silver leaf patterns, with a high collar and pauldrons shaped like falcon wings\",\n",
    ")"
   ]
  },
  {
   "cell_type": "markdown",
   "id": "71f55f04",
   "metadata": {},
   "source": [
    "## Provide Context and Intent\n",
    "\n",
    "Explain the purpose of the image. The model's understanding of context will influence the final output. For example, \"Create a logo for a high-end, minimalist skincare brand\" will yield better results than just \"Create a logo.\""
   ]
  },
  {
   "cell_type": "code",
   "execution_count": null,
   "id": "4d2a8fe1",
   "metadata": {},
   "outputs": [],
   "source": [
    "generate_and_display(\n",
    "    title=f\"logo_1\",\n",
    "    prompt=\"Create a logo for AURA\",\n",
    ")\n",
    "\n",
    "generate_and_display(\n",
    "    title=f\"logo_2\",\n",
    "    prompt=\"Create a logo for AURA, a high-end, minimalist skincare brand\",\n",
    ")"
   ]
  },
  {
   "cell_type": "markdown",
   "id": "39746623",
   "metadata": {},
   "source": [
    "## Iterate and Refine\n",
    "\n",
    "Don't expect a perfect image on the first try. Use the conversational nature of the model to make small changes. Follow up with prompts like, \"That's great, but can you make the lighting a bit warmer?\" or \"Keep everything the same, but change the character's expression to be more serious.\""
   ]
  },
  {
   "cell_type": "code",
   "execution_count": null,
   "id": "f4857aa5",
   "metadata": {},
   "outputs": [],
   "source": [
    "image_step_1 = generate_and_display(\n",
    "    title=f\"iterate_1\",\n",
    "    prompt=\"Create an side-shot photo of a modern 2020 VW Golf parked on a city street in Brooklyn, New York.\",\n",
    ")"
   ]
  },
  {
   "cell_type": "code",
   "execution_count": null,
   "id": "7fbc5c01",
   "metadata": {},
   "outputs": [],
   "source": [
    "image_step_2 = generate_and_display(\n",
    "    title=f\"iterate_2\",\n",
    "    input_images=[image_step_1],\n",
    "    prompt=\"Make the car bright yellow\",\n",
    ")"
   ]
  },
  {
   "cell_type": "code",
   "execution_count": null,
   "id": "61e9f36f",
   "metadata": {},
   "outputs": [],
   "source": [
    "image_step_2 = generate_and_display(\n",
    "    title=f\"iterate_3\",\n",
    "    input_images=[image_step_2],\n",
    "    prompt=\"Update the scene to have cooler, bright daylight, and make the trees more lush green, like a sunny day in springtime\",\n",
    ")"
   ]
  },
  {
   "cell_type": "markdown",
   "id": "b596722e",
   "metadata": {},
   "source": [
    "## Use Step-by-Step Instructions\n",
    "\n",
    "For complex scenes with many elements, break your prompt into steps. \"First, create a background of a serene, misty forest at dawn. Then, in the foreground, add a moss-covered ancient stone altar. Finally, place a single, glowing sword on top of the altar.\""
   ]
  },
  {
   "cell_type": "code",
   "execution_count": null,
   "id": "79cb7461",
   "metadata": {},
   "outputs": [],
   "source": [
    "generate_and_display(\n",
    "        title=f\"step_by_step_1\",\n",
    "        prompt=\"A magical glowing sword stuck on an ancient stone altar in a serene, misty, mystical forest at dawn.\"\n",
    "    )\n",
    "\n",
    "generate_and_display(\n",
    "        title=f\"step_by_step_2\",\n",
    "        prompt=\"First, create a background of a serene, misty forest at dawn. Then, in the foreground, add a moss-covered ancient stone altar. Finally, place a single, glowing sword stuck on the altar, surrounded by softly glowing fireflies.\"\n",
    "    )"
   ]
  },
  {
   "cell_type": "markdown",
   "id": "08583218",
   "metadata": {},
   "source": [
    "## Control the Camera\n",
    "\n",
    "Use photographic and cinematic language to control the composition. Terms like wide-angle shot, macro shot, low-angle perspective."
   ]
  },
  {
   "cell_type": "code",
   "execution_count": null,
   "id": "3b60a610",
   "metadata": {},
   "outputs": [],
   "source": [
    "BASE_SUBJECT = \"\"\"\n",
    "a black swan\n",
    "\"\"\"\n",
    "\n",
    "generate_and_display(\n",
    "    title=f\"camera_control_1\",\n",
    "    prompt=\"Wide angle far away shot of \" + BASE_SUBJECT\n",
    ")\n",
    "\n",
    "generate_and_display(\n",
    "    title=f\"camera_control_2\",\n",
    "    prompt=\"Medium shot with 70mm lens and f2.4 of \" + BASE_SUBJECT\n",
    ")\n",
    "\n",
    "generate_and_display(\n",
    "    title=f\"camera_control_3\",\n",
    "    prompt=\"Macro lens, extreme close up of \" + BASE_SUBJECT\n",
    ")"
   ]
  }
 ],
 "metadata": {
  "kernelspec": {
   "display_name": "python-tutorial-template",
   "language": "python",
   "name": "python3"
  },
  "language_info": {
   "codemirror_mode": {
    "name": "ipython",
    "version": 3
   },
   "file_extension": ".py",
   "mimetype": "text/x-python",
   "name": "python",
   "nbconvert_exporter": "python",
   "pygments_lexer": "ipython3",
   "version": "3.10.8"
  }
 },
 "nbformat": 4,
 "nbformat_minor": 5
}
